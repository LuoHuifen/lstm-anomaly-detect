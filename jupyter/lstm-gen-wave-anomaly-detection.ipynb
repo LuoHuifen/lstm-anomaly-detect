{
 "cells": [
  {
   "cell_type": "code",
   "execution_count": 1,
   "metadata": {
    "collapsed": true
   },
   "outputs": [],
   "source": [
    "import matplotlib.pyplot as plt\n",
    "import numpy as np\n",
    "import pandas as pd\n",
    "import time\n",
    "from numpy import arange, sin, pi, random\n"
   ]
  },
  {
   "cell_type": "code",
   "execution_count": 11,
   "metadata": {
    "collapsed": true
   },
   "outputs": [],
   "source": [
    "# Global hyper-parameters\n",
    "sequence_length = 100\n",
    "random_data_dup = 10  # each sample randomly duplicated between 0 and 9 times, see dropin function"
   ]
  },
  {
   "cell_type": "code",
   "execution_count": 9,
   "metadata": {
    "collapsed": true
   },
   "outputs": [],
   "source": [
    "def dropin(X, y):\n",
    "    \"\"\" The name suggests the inverse of dropout, i.e. adding more samples. See Data Augmentation section at\n",
    "    http://simaaron.github.io/Estimating-rainfall-from-weather-radar-readings-using-recurrent-neural-networks/\n",
    "    :param X: Each row is a training sequence\n",
    "    :param y: Tne target we train and will later predict\n",
    "    :return: new augmented X, y\n",
    "    \"\"\"\n",
    "    print(\"X shape:\", X.shape)\n",
    "    print(\"y shape:\", y.shape)\n",
    "    X_hat = []\n",
    "    y_hat = []\n",
    "    for i in range(0, len(X)):\n",
    "        for j in range(0, np.random.random_integers(0, random_data_dup)):\n",
    "            X_hat.append(X[i, :])\n",
    "            y_hat.append(y[i])\n",
    "    return np.asarray(X_hat), np.asarray(y_hat)"
   ]
  },
  {
   "cell_type": "code",
   "execution_count": 2,
   "metadata": {
    "collapsed": true
   },
   "outputs": [],
   "source": [
    "def gen_wave():\n",
    "    \"\"\" Generate a synthetic wave by adding up a few sine waves and some noise\n",
    "    :return: the final wave\n",
    "    \"\"\"\n",
    "    t = np.arange(0.0, 10.0, 0.01)\n",
    "    wave1 = sin(2 * 2 * pi * t)\n",
    "    noise = random.normal(0, 0.1, len(t))\n",
    "    wave1 = wave1 + noise\n",
    "    print(\"wave1\", len(wave1))\n",
    "    wave2 = sin(2 * pi * t)\n",
    "    print(\"wave2\", len(wave2))\n",
    "    t_rider = arange(0.0, 0.5, 0.01)\n",
    "    wave3 = sin(10 * pi * t_rider)\n",
    "    print(\"wave3\", len(wave3))\n",
    "    insert = int(round(0.8 * len(t)))\n",
    "    wave1[insert:insert + 50] = wave1[insert:insert + 50] + wave3\n",
    "    return wave1 + wave2\n"
   ]
  },
  {
   "cell_type": "code",
   "execution_count": 7,
   "metadata": {
    "collapsed": true
   },
   "outputs": [],
   "source": [
    "def z_norm(result):\n",
    "    result_mean = result.mean()\n",
    "    result_std = result.std()\n",
    "    result -= result_mean\n",
    "    result /= result_std\n",
    "    return result, result_mean"
   ]
  },
  {
   "cell_type": "code",
   "execution_count": 3,
   "metadata": {
    "collapsed": true
   },
   "outputs": [],
   "source": [
    "def get_split_prep_data(train_start, train_end,\n",
    "                          test_start, test_end):\n",
    "    data = gen_wave()\n",
    "    print(\"Length of Data\", len(data))\n",
    "\n",
    "    # train data\n",
    "    print \"Creating train data...\"\n",
    "\n",
    "    result = []\n",
    "    for index in range(train_start, train_end - sequence_length):\n",
    "        result.append(data[index: index + sequence_length])\n",
    "    result = np.array(result)  # shape (samples, sequence_length)\n",
    "    result, result_mean = z_norm(result)\n",
    "\n",
    "    print \"Mean of train data : \", result_mean\n",
    "    print \"Train data shape  : \", result.shape\n",
    "\n",
    "    train = result[train_start:train_end, :]\n",
    "    np.random.shuffle(train)  # shuffles in-place\n",
    "    X_train = train[:, :-1]\n",
    "    y_train = train[:, -1]\n",
    "    X_train, y_train = dropin(X_train, y_train)\n",
    "\n",
    "    # test data\n",
    "    print \"Creating test data...\"\n",
    "\n",
    "    result = []\n",
    "    for index in range(test_start, test_end - sequence_length):\n",
    "        result.append(data[index: index + sequence_length])\n",
    "    result = np.array(result)  # shape (samples, sequence_length)\n",
    "    result, result_mean = z_norm(result)\n",
    "\n",
    "    print \"Mean of test data : \", result_mean\n",
    "    print \"Test data shape  : \", result.shape\n",
    "\n",
    "    X_test = result[:, :-1]\n",
    "    y_test = result[:, -1]\n",
    "\n",
    "    print(\"Shape X_train\", np.shape(X_train))\n",
    "    print(\"Shape X_test\", np.shape(X_test))\n",
    "\n",
    "    X_train = np.reshape(X_train, (X_train.shape[0], X_train.shape[1], 1))\n",
    "    X_test = np.reshape(X_test, (X_test.shape[0], X_test.shape[1], 1))\n",
    "\n",
    "    return X_train, y_train, X_test, y_test\n"
   ]
  },
  {
   "cell_type": "code",
   "execution_count": 12,
   "metadata": {},
   "outputs": [
    {
     "name": "stdout",
     "output_type": "stream",
     "text": [
      "loading data...\n",
      "('wave1', 1000)\n",
      "('wave2', 1000)\n",
      "('wave3', 50)\n",
      "('Length of Data', 1000)\n",
      "Creating train data...\n",
      "Mean of train data :  -0.00415809717388\n",
      "Train data shape  :  (600, 100)\n",
      "('X shape:', (600, 99))\n",
      "('y shape:', (600,))\n",
      "Creating test data...\n",
      "Mean of test data :  0.0169703820006\n",
      "Test data shape  :  (400, 100)\n",
      "('Shape X_train', (3004, 99))\n",
      "('Shape X_test', (400, 99))\n"
     ]
    },
    {
     "name": "stderr",
     "output_type": "stream",
     "text": [
      "/home/luohuifen/anaconda2/lib/python2.7/site-packages/ipykernel_launcher.py:13: DeprecationWarning: This function is deprecated. Please call randint(0, 10 + 1) instead\n",
      "  del sys.path[0]\n"
     ]
    }
   ],
   "source": [
    "print 'loading data...'\n",
    "X_train, y_train, X_test, y_test = get_split_prep_data(0, 700, 500, 1000)"
   ]
  },
  {
   "cell_type": "code",
   "execution_count": 29,
   "metadata": {},
   "outputs": [
    {
     "name": "stdout",
     "output_type": "stream",
     "text": [
      "[[ -2.31752158e-01]\n",
      " [ -3.31872674e-01]\n",
      " [ -4.86269566e-01]\n",
      " [ -4.21589106e-01]\n",
      " [ -1.32304568e-01]\n",
      " [  3.79195923e-02]\n",
      " [ -1.32036267e-02]\n",
      " [ -8.20127034e-03]\n",
      " [  1.76070235e-02]\n",
      " [  3.10074027e-01]\n",
      " [  3.57637140e-01]\n",
      " [  2.35789392e-01]\n",
      " [  3.23399537e-01]\n",
      " [  2.87384579e-01]\n",
      " [  5.61688275e-01]\n",
      " [  4.72296760e-01]\n",
      " [  3.10959508e-01]\n",
      " [  4.01906727e-01]\n",
      " [  3.57589390e-01]\n",
      " [  2.62106236e-01]\n",
      " [  1.25882078e-01]\n",
      " [  1.72375843e-01]\n",
      " [  1.55825806e-01]\n",
      " [ -5.94918869e-02]\n",
      " [ -2.94153181e-01]\n",
      " [ -3.11063264e-01]\n",
      " [ -3.38920019e-01]\n",
      " [ -5.24076675e-01]\n",
      " [ -8.20249717e-01]\n",
      " [ -7.78021499e-01]\n",
      " [ -9.18122531e-01]\n",
      " [ -1.09564821e+00]\n",
      " [ -1.16558275e+00]\n",
      " [ -1.37053956e+00]\n",
      " [ -1.37469472e+00]\n",
      " [ -1.52626402e+00]\n",
      " [ -1.47916699e+00]\n",
      " [ -1.65680981e+00]\n",
      " [ -1.77017876e+00]\n",
      " [ -1.85490709e+00]\n",
      " [ -1.63776253e+00]\n",
      " [ -1.77855639e+00]\n",
      " [ -1.69621261e+00]\n",
      " [ -1.58542434e+00]\n",
      " [ -1.70281150e+00]\n",
      " [ -1.17597694e+00]\n",
      " [ -1.40804759e+00]\n",
      " [ -1.38412383e+00]\n",
      " [ -1.29799780e+00]\n",
      " [ -9.87830459e-01]\n",
      " [ -8.87837755e-01]\n",
      " [ -5.83977652e-01]\n",
      " [ -4.49850610e-01]\n",
      " [ -3.19146337e-01]\n",
      " [ -2.43237398e-01]\n",
      " [ -5.42947346e-02]\n",
      " [  7.36809978e-02]\n",
      " [  4.01815078e-01]\n",
      " [  4.25430633e-01]\n",
      " [  5.88644129e-01]\n",
      " [  7.88277347e-01]\n",
      " [  1.08927406e+00]\n",
      " [  1.12142432e+00]\n",
      " [  1.41739398e+00]\n",
      " [  1.55960548e+00]\n",
      " [  1.35566298e+00]\n",
      " [  1.64470301e+00]\n",
      " [  1.71015280e+00]\n",
      " [  1.71436311e+00]\n",
      " [  1.81409493e+00]\n",
      " [  1.78398888e+00]\n",
      " [  1.85131935e+00]\n",
      " [  1.85896786e+00]\n",
      " [  1.55753552e+00]\n",
      " [  1.65008759e+00]\n",
      " [  1.47262242e+00]\n",
      " [  1.46369727e+00]\n",
      " [  1.33323977e+00]\n",
      " [  1.19330562e+00]\n",
      " [  1.09654585e+00]\n",
      " [  8.66558652e-01]\n",
      " [  1.02991814e+00]\n",
      " [  6.12104164e-01]\n",
      " [  5.93039318e-01]\n",
      " [  4.36815076e-01]\n",
      " [  3.79344313e-01]\n",
      " [  3.23004727e-01]\n",
      " [  1.75686243e-01]\n",
      " [  1.42176741e-03]\n",
      " [  8.74151940e-02]\n",
      " [ -1.89777743e-01]\n",
      " [ -2.93592835e-01]\n",
      " [ -1.81170712e-01]\n",
      " [ -2.98447793e-01]\n",
      " [ -4.64769428e-01]\n",
      " [ -4.44450930e-01]\n",
      " [ -4.78215681e-01]\n",
      " [ -2.96287772e-01]\n",
      " [ -2.85069662e-01]]\n",
      "-0.3694179746\n",
      "[ 0.23636656]\n",
      "0.0627065960302\n"
     ]
    },
    {
     "data": {
      "image/png": "[encoded data removed]",
      "text/plain": [
       "<matplotlib.figure.Figure at 0x7f3c6c471110>"
      ]
     },
     "metadata": {},
     "output_type": "display_data"
    }
   ],
   "source": [
    "print X_train[10]\n",
    "print y_train[10]\n",
    "print X_test[0][1]\n",
    "print y_test[1]\n",
    "plt.figure()\n",
    "#plt.subplot(211)\n",
    "plt.title(\"Train signal w/Anomalies\")\n",
    "plt.plot(y_train[:len(y_train)],'b')\n",
    "\n",
    "#plt.subplot(212)\n",
    "#plt.title(\"Test signal w/Anomalies\")\n",
    "#plt.plot(y_test[:len(y_train)],'b')\n",
    "plt.show()"
   ]
  }
 ],
 "metadata": {
  "kernelspec": {
   "display_name": "Python 2",
   "language": "python",
   "name": "python2"
  },
  "language_info": {
   "codemirror_mode": {
    "name": "ipython",
    "version": 2
   },
   "file_extension": ".py",
   "mimetype": "text/x-python",
   "name": "python",
   "nbconvert_exporter": "python",
   "pygments_lexer": "ipython2",
   "version": "2.7.13"
  }
 },
 "nbformat": 4,
 "nbformat_minor": 2
}
