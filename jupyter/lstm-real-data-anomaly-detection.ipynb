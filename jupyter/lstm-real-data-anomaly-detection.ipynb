{
 "cells": [
  {
   "cell_type": "code",
   "execution_count": 11,
   "metadata": {},
   "outputs": [
    {
     "name": "stderr",
     "output_type": "stream",
     "text": [
      "Using TensorFlow backend.\n"
     ]
    }
   ],
   "source": [
    "import matplotlib.pyplot as plt\n",
    "import numpy as np\n",
    "import time\n",
    "from keras.layers.core import Dense, Activation, Dropout\n",
    "from keras.layers.recurrent import LSTM\n",
    "from keras.models import Sequential\n",
    "from numpy import arange, sin, pi, random"
   ]
  },
  {
   "cell_type": "code",
   "execution_count": 159,
   "metadata": {
    "collapsed": true
   },
   "outputs": [],
   "source": [
    "np.random.seed(1234)\n",
    "\n",
    "# Global hyper-parameters\n",
    "sequence_length = 100\n",
    "random_data_dup = 10  # each sample randomly duplicated between 0 and 9 times, see dropin function\n",
    "epochs = 5\n",
    "batch_size = 50"
   ]
  },
  {
   "cell_type": "code",
   "execution_count": 162,
   "metadata": {},
   "outputs": [
    {
     "name": "stdout",
     "output_type": "stream",
     "text": [
      "1231\n"
     ]
    }
   ],
   "source": [
    "csv_path = '/home/luohuifen/anomaly-detection/data/itraffic_data_per_hourly.csv'\n",
    "col_names = ['Time', 'ISP'] # key \n",
    "csv_data = pd.read_csv(csv_path, header=0, names=col_names)\n",
    "df = pd.DataFrame(csv_data)\n",
    "print len(df)\n",
    "#print df"
   ]
  },
  {
   "cell_type": "code",
   "execution_count": 163,
   "metadata": {},
   "outputs": [],
   "source": [
    "def dropin(X, y):\n",
    "    \"\"\" The name suggests the inverse of dropout, i.e. adding more samples. See Data Augmentation section at\n",
    "    http://simaaron.github.io/Estimating-rainfall-from-weather-radar-readings-using-recurrent-neural-networks/\n",
    "    :param X: Each row is a training sequence\n",
    "    :param y: Tne target we train and will later predict\n",
    "    :return: new augmented X, y\n",
    "    \"\"\"\n",
    "    print(\"X shape:\", X.shape)\n",
    "    print(\"y shape:\", y.shape)\n",
    "    X_hat = []\n",
    "    y_hat = []\n",
    "    for i in range(0, len(X)):\n",
    "        for j in range(0, np.random.random_integers(0, random_data_dup)):\n",
    "            X_hat.append(X[i, :])\n",
    "            y_hat.append(y[i])\n",
    "    return np.asarray(X_hat), np.asarray(y_hat)\n",
    "\n",
    "\n",
    "def gen_wave():\n",
    "    \"\"\" Generate a synthetic wave by adding up a few sine waves and some noise\n",
    "    :return: the final wave\n",
    "    \"\"\"\n",
    "    t = np.arange(0.0, 10.0, 0.01)\n",
    "    wave1 = sin(2 * 2 * pi * t)\n",
    "    noise = random.normal(0, 0.1, len(t))\n",
    "    wave1 = wave1 + noise\n",
    "    print(\"wave1\", len(wave1))\n",
    "    wave2 = sin(2 * pi * t)\n",
    "    print(\"wave2\", len(wave2))\n",
    "    t_rider = arange(0.0, 0.5, 0.01)\n",
    "    wave3 = sin(10 * pi * t_rider)\n",
    "    print(\"wave3\", len(wave3))\n",
    "    insert = int(round(0.8 * len(t)))\n",
    "    wave1[insert:insert + 50] = wave1[insert:insert + 50] + wave3\n",
    "    return wave1 + wave2\n",
    "\n",
    "\n",
    "def z_norm(result):\n",
    "    \"\"\" Normalization function   \n",
    "    :param result: data\n",
    "    :return: normalized data\n",
    "    \"\"\" \n",
    "    \n",
    "    result = result.astype(np.float32) # convert its dtype from int64 to float32 in order to prevent numberic range\n",
    "    result_mean = np.mean(result, dtype=np.float32)\n",
    "    result_std = np.std(result, dtype=np.float32, ddof=1) # parameter ddof is set to 1\n",
    "    result -= result_mean\n",
    "    result = np.divide(result, result_std, dtype=np.float32)\n",
    "    return result, result_mean\n",
    "\n",
    "\n",
    "def get_split_prep_data(data, train_start, train_end, test_start, test_end):\n",
    "    #data = gen_wave()\n",
    "    print(\"Length of Data\", len(data))\n",
    "\n",
    "    # train data\n",
    "    print \"\\n Creating train data...\"\n",
    "\n",
    "    result = []\n",
    "    for index in range(train_start, train_end - sequence_length):\n",
    "        result.append(data[index: index + sequence_length])\n",
    "    result = np.array(result)  # shape (samples, sequence_length)\n",
    "    result, result_mean = z_norm(result)\n",
    "        \n",
    "    print \"Mean of train data : \", result_mean\n",
    "    print \"Train data shape  : \", result.shape\n",
    "    train = result[train_start:train_end, :]\n",
    "    \n",
    "    \n",
    "    np.random.shuffle(train)  # shuffles in-place\n",
    "    X_train = train[:, :-1]\n",
    "    y_train = train[:, -1]\n",
    "    X_train, y_train = dropin(X_train, y_train)\n",
    "    \n",
    "    # test data\n",
    "    print \"\\n Creating test data...\"\n",
    "\n",
    "    result = []\n",
    "    for index in range(test_start, test_end - sequence_length):\n",
    "        result.append(data[index: index + sequence_length])\n",
    "    result = np.array(result)  # shape (samples, sequence_length)\n",
    "    result, result_mean = z_norm(result)\n",
    "    \n",
    "\n",
    "    print \"Mean of test data : \", result_mean\n",
    "    print \"Test data shape  : \", result.shape\n",
    "\n",
    "    X_test = result[:, :-1]\n",
    "    y_test = result[:, -1]\n",
    "\n",
    "    print(\"Shape X_train\", np.shape(X_train))\n",
    "    print(\"Shape X_test\", np.shape(X_test))\n",
    "\n",
    "    X_train = np.reshape(X_train, (X_train.shape[0], X_train.shape[1], 1))\n",
    "    X_test = np.reshape(X_test, (X_test.shape[0], X_test.shape[1], 1))\n",
    "\n",
    "    return X_train, y_train, X_test, y_test\n",
    "\n",
    "\n",
    "def build_model():\n",
    "    model = Sequential()\n",
    "    layers = {'input': 1, 'hidden1': 64, 'hidden2': 256, 'hidden3': 100, 'output': 1}\n",
    "\n",
    "    model.add(LSTM(\n",
    "            input_length=sequence_length - 1,\n",
    "            input_dim=layers['input'],\n",
    "            output_dim=layers['hidden1'],\n",
    "            return_sequences=True))\n",
    "    model.add(Dropout(0.2))\n",
    "\n",
    "    model.add(LSTM(\n",
    "            layers['hidden2'],\n",
    "            return_sequences=True))\n",
    "    model.add(Dropout(0.2))\n",
    "\n",
    "    model.add(LSTM(\n",
    "            layers['hidden3'],\n",
    "            return_sequences=False))\n",
    "    model.add(Dropout(0.2))\n",
    "\n",
    "    model.add(Dense(\n",
    "            output_dim=layers['output']))\n",
    "    model.add(Activation(\"linear\"))\n",
    "\n",
    "    start = time.time()\n",
    "    model.compile(loss=\"mse\", optimizer=\"rmsprop\")\n",
    "    print \"Compilation Time : \", time.time() - start\n",
    "    return model\n"
   ]
  },
  {
   "cell_type": "code",
   "execution_count": 164,
   "metadata": {
    "collapsed": true
   },
   "outputs": [],
   "source": [
    "def run_network(model=None, data=None):\n",
    "    global_start_time = time.time()\n",
    "\n",
    "    if data is None:\n",
    "        print 'Generating data... '\n",
    "        data = gen_wave()\n",
    "        # train on first 700 samples and test on next 300 samples (has anomaly)\n",
    "        X_train, y_train, X_test, y_test = get_split_prep_data(data, 0, 700, 500, 1000)\n",
    "    else:\n",
    "        print 'Loading data...'\n",
    "        X_train, y_train, X_test, y_test = get_split_prep_data(data, 0, 1000, 1000, 1230)\n",
    "\n",
    "    print '\\nData Loaded. Compiling...\\n'\n",
    "\n",
    "    if model is None:\n",
    "        model = build_model()\n",
    "\n",
    "    try:\n",
    "        print(\"Training...\")\n",
    "        model.fit(\n",
    "                X_train, y_train,\n",
    "                batch_size=batch_size, nb_epoch=epochs, validation_split=0.05)\n",
    "        print(\"Predicting...\")\n",
    "        predicted = model.predict(X_test)\n",
    "        print(\"Reshaping predicted\")\n",
    "        predicted = np.reshape(predicted, (predicted.size,))\n",
    "    except KeyboardInterrupt:\n",
    "        print(\"prediction exception\")\n",
    "        print 'Training duration (s) : ', time.time() - global_start_time\n",
    "        return model, y_test, 0\n",
    "\n",
    "    try:\n",
    "        plt.figure(1)\n",
    "        plt.subplot(311)\n",
    "        plt.title(\"Actual Test Signal w/Anomalies\")\n",
    "        plt.plot(y_test[:len(y_test)], 'b')\n",
    "        plt.subplot(312)\n",
    "        plt.title(\"Predicted Signal\")\n",
    "        plt.plot(predicted[:len(y_test)], 'g')\n",
    "        plt.subplot(313)\n",
    "        plt.title(\"Squared Error\")\n",
    "        mse = ((y_test - predicted) ** 2)\n",
    "        plt.plot(mse, 'r')\n",
    "        plt.show()\n",
    "    except Exception as e:\n",
    "        print(\"plotting exception\")\n",
    "        print str(e)\n",
    "    print 'Training duration (s) : ', time.time() - global_start_time\n",
    "\n",
    "    #return model, y_test, predicted\n",
    "    return X_train, y_train, X_test, y_test, model, predicted"
   ]
  },
  {
   "cell_type": "code",
   "execution_count": null,
   "metadata": {},
   "outputs": [
    {
     "name": "stdout",
     "output_type": "stream",
     "text": [
      "Loading data...\n",
      "('Length of Data', 1231)\n",
      "\n",
      " Creating train data...\n",
      "Mean of train data :  4.54883e+10\n",
      "Train data shape  :  (900, 100)\n",
      "('X shape:', (900, 99))\n",
      "('y shape:', (900,))\n",
      "\n",
      " Creating test data...\n",
      "Mean of test data :  4.10843e+10\n",
      "Test data shape  :  (130, 100)\n",
      "('Shape X_train', (4591, 99))\n",
      "('Shape X_test', (130, 99))\n",
      "\n",
      "Data Loaded. Compiling...\n",
      "\n"
     ]
    },
    {
     "name": "stderr",
     "output_type": "stream",
     "text": [
      "/home/luohuifen/anaconda2/lib/python2.7/site-packages/ipykernel_launcher.py:13: DeprecationWarning: This function is deprecated. Please call randint(0, 10 + 1) instead\n",
      "  del sys.path[0]\n",
      "/home/luohuifen/anaconda2/lib/python2.7/site-packages/ipykernel_launcher.py:108: UserWarning: The `input_dim` and `input_length` arguments in recurrent layers are deprecated. Use `input_shape` instead.\n",
      "/home/luohuifen/anaconda2/lib/python2.7/site-packages/ipykernel_launcher.py:108: UserWarning: Update your `LSTM` call to the Keras 2 API: `LSTM(units=64, return_sequences=True, input_shape=(99, 1))`\n",
      "/home/luohuifen/anaconda2/lib/python2.7/site-packages/ipykernel_launcher.py:122: UserWarning: Update your `Dense` call to the Keras 2 API: `Dense(units=1)`\n"
     ]
    },
    {
     "name": "stdout",
     "output_type": "stream",
     "text": [
      "Compilation Time :  0.013279914856\n",
      "Training...\n",
      "Train on 4361 samples, validate on 230 samples\n",
      "Epoch 1/5\n",
      "4361/4361 [==============================] - 82s - loss: 0.2738 - val_loss: 0.1246\n",
      "Epoch 2/5\n",
      "4361/4361 [==============================] - 81s - loss: 0.0986 - val_loss: 0.1104\n",
      "Epoch 3/5\n",
      "4361/4361 [==============================] - 73s - loss: 0.0732 - val_loss: 0.0912\n",
      "Epoch 4/5\n",
      "4361/4361 [==============================] - 76s - loss: 0.0549 - val_loss: 0.0607\n",
      "Epoch 5/5\n",
      "4350/4361 [============================>.] - ETA: 0s - loss: 0.0467"
     ]
    }
   ],
   "source": [
    "X_train, y_train, X_test, y_test, model, y_predicted = run_network(data=df['ISP'])"
   ]
  },
  {
   "cell_type": "code",
   "execution_count": 158,
   "metadata": {},
   "outputs": [
    {
     "data": {
      "image/png": "[encoded data removed]",
      "text/plain": [
       "<matplotlib.figure.Figure at 0x7fc716117ed0>"
      ]
     },
     "metadata": {},
     "output_type": "display_data"
    }
   ],
   "source": [
    "plt.plot(predicted, color='green', label='y_prediction')\n",
    "plt.plot(y_test, color='blue', label='y_test')\n",
    "plt.legend(loc='upper left')\n",
    "plt.show()"
   ]
  },
  {
   "cell_type": "code",
   "execution_count": null,
   "metadata": {},
   "outputs": [],
   "source": []
  }
 ],
 "metadata": {
  "kernelspec": {
   "display_name": "Python 2",
   "language": "python",
   "name": "python2"
  },
  "language_info": {
   "codemirror_mode": {
    "name": "ipython",
    "version": 2
   },
   "file_extension": ".py",
   "mimetype": "text/x-python",
   "name": "python",
   "nbconvert_exporter": "python",
   "pygments_lexer": "ipython2",
   "version": "2.7.13"
  }
 },
 "nbformat": 4,
 "nbformat_minor": 2
}
